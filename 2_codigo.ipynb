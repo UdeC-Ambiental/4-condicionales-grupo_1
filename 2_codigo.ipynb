{
 "cells": [
  {
   "cell_type": "code",
   "execution_count": 2,
   "id": "45e6ff29-15d1-4b76-b487-8d029e777ae8",
   "metadata": {},
   "outputs": [
    {
     "name": "stdout",
     "output_type": "stream",
     "text": [
      "20.5\n",
      "20.0\n"
     ]
    }
   ],
   "source": [
    "temperaturas = [20.5, 21.0, 19.8, 22.1, 20.0]\n",
    "\n",
    "print(temperaturas[0])\n",
    "print(temperaturas[-1])"
   ]
  },
  {
   "cell_type": "code",
   "execution_count": 3,
   "id": "3f71fb1c-da8b-42d7-a25f-725ae2edef1b",
   "metadata": {},
   "outputs": [
    {
     "name": "stdout",
     "output_type": "stream",
     "text": [
      "[20.5, 23.5, 19.8, 22.1, 20.0]\n"
     ]
    }
   ],
   "source": [
    "temperaturas[1] = 23.5\n",
    "print(temperaturas)"
   ]
  },
  {
   "cell_type": "code",
   "execution_count": 32,
   "id": "77941723-bc86-40d2-8887-14a094085d85",
   "metadata": {},
   "outputs": [
    {
     "name": "stdout",
     "output_type": "stream",
     "text": [
      "(4.65, -74.12)\n"
     ]
    },
    {
     "ename": "TypeError",
     "evalue": "'tuple' object does not support item assignment",
     "output_type": "error",
     "traceback": [
      "\u001b[1;31m---------------------------------------------------------------------------\u001b[0m",
      "\u001b[1;31mTypeError\u001b[0m                                 Traceback (most recent call last)",
      "Cell \u001b[1;32mIn[32], line 3\u001b[0m\n\u001b[0;32m      1\u001b[0m punto_muestreo \u001b[38;5;241m=\u001b[39m (\u001b[38;5;241m4.65\u001b[39m, \u001b[38;5;241m-\u001b[39m\u001b[38;5;241m74.12\u001b[39m)\n\u001b[0;32m      2\u001b[0m \u001b[38;5;28mprint\u001b[39m(punto_muestreo)\n\u001b[1;32m----> 3\u001b[0m punto_muestreo[\u001b[38;5;241m0\u001b[39m] \u001b[38;5;241m=\u001b[39m \u001b[38;5;241m69.45\u001b[39m\n",
      "\u001b[1;31mTypeError\u001b[0m: 'tuple' object does not support item assignment"
     ]
    }
   ],
   "source": [
    "punto_muestreo = (4.65, -74.12)\n",
    "print(punto_muestreo)\n",
    "punto_muestreo[0] = 69.45\n",
    "#ES UN TUPLA Y LOS VALORES DENTRO DE ESTOS NO SE PUEDEN ALTERAR"
   ]
  },
  {
   "cell_type": "code",
   "execution_count": 48,
   "id": "7a0a7f4f-81c4-4a55-9bd5-b90134628aa8",
   "metadata": {},
   "outputs": [
    {
     "name": "stdout",
     "output_type": "stream",
     "text": [
      "{'UBICACION': 'RIO CLARO'}\n"
     ]
    }
   ],
   "source": [
    "muestra_a = [\n",
    "    {\"ID\":\"M001\"},\n",
    "     {\"UBICACION\":\"RIO CLARO\"},\n",
    "     {\"pH\":7.0 }, \n",
    "     {\"TEMPERATURA\":19.5}\n",
    "]\n",
    "\n",
    "print(muestra_a[1])"
   ]
  },
  {
   "cell_type": "code",
   "execution_count": 30,
   "id": "0bd19dae-b796-4e27-81f0-f1050cb98044",
   "metadata": {},
   "outputs": [
    {
     "name": "stdout",
     "output_type": "stream",
     "text": [
      "[{'ID': 'M000', 'UBICACION': 'CASA FRANCY', 'PH': 10, 'TEMPERATURA': 20}, {'ID': 'M001', 'UBICACION': 'CASA KAREN', 'PH': 8, 'TEMPERATURA': 100}, {'ID': 'M002', 'UBICACION': 'CASA ANGGIE', 'PH': 2, 'TEMPERATURA': -4}]\n",
      "{'ID': 'M001', 'UBICACION': 'CASA KAREN', 'PH': 8, 'TEMPERATURA': 100}\n"
     ]
    }
   ],
   "source": [
    "muestra_agua = [\n",
    "    {\"ID\": \"M000\", \"UBICACION\": \"CASA FRANCY\", \"PH\":10, \"TEMPERATURA\":20},\n",
    "    {\"ID\": \"M001\", \"UBICACION\": \"CASA KAREN\", \"PH\":8, \"TEMPERATURA\":100},\n",
    "    {\"ID\": \"M002\", \"UBICACION\": \"CASA ANGGIE\", \"PH\":2, \"TEMPERATURA\":-4} ]\n",
    "\n",
    "print(muestra_agua)\n",
    "print(muestra_agua[1])"
   ]
  },
  {
   "cell_type": "code",
   "execution_count": 31,
   "id": "ae03d203-38f0-472c-b525-5ddfd705338c",
   "metadata": {},
   "outputs": [
    {
     "name": "stdout",
     "output_type": "stream",
     "text": [
      "[{'ID': 'M000', 'UBICACION': 'CASA FRANCY', 'PH': 10, 'TEMPERATURA': 20, 'CLASIFICACION': 'BASICA'}, {'ID': 'M001', 'UBICACION': 'CASA KAREN', 'PH': 8, 'TEMPERATURA': 100, 'CLASIFICACION': 'BASICA'}, {'ID': 'M002', 'UBICACION': 'CASA ANGGIE', 'PH': 2, 'TEMPERATURA': -4, 'CLASIFICACION': 'ACIDO'}]\n"
     ]
    }
   ],
   "source": [
    "muestra_agua = [\n",
    "    {\"ID\": \"M000\", \"UBICACION\": \"CASA FRANCY\", \"PH\":10, \"TEMPERATURA\":20, \"CLASIFICACION\": \"BASICA\"},\n",
    "    {\"ID\": \"M001\", \"UBICACION\": \"CASA KAREN\", \"PH\":8, \"TEMPERATURA\":100, \"CLASIFICACION\": \"BASICA\"},\n",
    "    {\"ID\": \"M002\", \"UBICACION\": \"CASA ANGGIE\", \"PH\":2, \"TEMPERATURA\":-4, \"CLASIFICACION\": \"ACIDO\"} ]\n",
    "print(muestra_agua)"
   ]
  },
  {
   "cell_type": "code",
   "execution_count": null,
   "id": "ee6413a1-4af8-4c41-a8d5-2a3829e3c523",
   "metadata": {},
   "outputs": [],
   "source": [
    "calidad_aire = [\n",
    "    {\"ID\": \"M000\", \"UBICACION\": \"CASA FRANCY\", \"pm25\":2.5, \"pm10\":27 },\n",
    "    {\"ID\": \"M001\", \"UBICACION\": \"CASA KAREN\", \"pm25\":7, \"pm10\":45},\n",
    "    {\"ID\": \"M002\", \"UBICACION\": \"CASA ANGGIE\", \"pm25\":4, \"pm10\":38},\n",
    "    {\"ID\": \"M003\", \"UBICACION\": \"CASA SANTIAGO\", \"pm25\":3.7, \"pm10\":30}\n",
    "    #los valores de pm25 y pm10 estan en unidades de µg/m³. Son importantes para conocer la concentracion de contaminantes suspendidas en el aire.\n",
    "]"
   ]
  }
 ],
 "metadata": {
  "kernelspec": {
   "display_name": "Python 3 (ipykernel)",
   "language": "python",
   "name": "python3"
  },
  "language_info": {
   "codemirror_mode": {
    "name": "ipython",
    "version": 3
   },
   "file_extension": ".py",
   "mimetype": "text/x-python",
   "name": "python",
   "nbconvert_exporter": "python",
   "pygments_lexer": "ipython3",
   "version": "3.13.5"
  }
 },
 "nbformat": 4,
 "nbformat_minor": 5
}
