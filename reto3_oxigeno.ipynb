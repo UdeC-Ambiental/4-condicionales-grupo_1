{
 "cells": [
  {
   "cell_type": "markdown",
   "metadata": {},
   "source": [
    "# 🧩 Reto 3 – Oxígeno disuelto\n",
    "**Objetivo:** evaluar riesgo ecológico según oxígeno disuelto.\n",
    "\n",
    "**Datos:** `../data/muestras_calidad_agua.csv`"
   ]
  },
  {
   "cell_type": "markdown",
   "metadata": {},
   "source": [
    "### Pasos\n",
    "1. Carga el CSV en `df`.\n",
    "2. Extrae `sitio` y `oxigeno`.\n",
    "3. Crea `nivel_oxigeno` (bajo/medio/alto).\n",
    "4. Crea `riesgo_biologico` (⚠ si oxígeno < 5).\n",
    "5. Filtra y exporta `resultado_oxigeno.csv`.\n",
    "\n",
    "> **Reto adicional:** porcentaje de sitios con riesgo."
   ]
  },
  {
   "cell_type": "code",
   "execution_count": 1,
   "metadata": {},
   "outputs": [
    {
     "name": "stdout",
     "output_type": "stream",
     "text": [
      "Porcentaje de sitios con riesgo biológico: 20.00%\n"
     ]
    }
   ],
   "source": [
    "import pandas as pd\n",
    "\n",
    "# 1. Cargar datos\n",
    "df = pd.read_csv(\"https://raw.githubusercontent.com/UdeC-Ambiental/4-condicionales-grupo_1/refs/heads/Integracion/data/muestras_calidad_agua.csv\")\n",
    "\n",
    "# 2. Extraer columnas\n",
    "df = df[['sitio', 'oxigeno']]\n",
    "\n",
    "# 3. Clasificar nivel de oxígeno\n",
    "def clasificar_nivel(oxigeno):\n",
    "    if oxigeno < 5:\n",
    "        return 'bajo'\n",
    "    elif oxigeno <= 8:\n",
    "        return 'medio'\n",
    "    else:\n",
    "        return 'alto'\n",
    "\n",
    "df['nivel_oxigeno'] = df['oxigeno'].apply(clasificar_nivel)\n",
    "\n",
    "# 4. Marcar riesgo biológico\n",
    "df['riesgo_biologico'] = df['oxigeno'].apply(lambda x: '⚠' if x < 5 else '')\n",
    "\n",
    "# 5. Filtrar sitios con riesgo\n",
    "riesgo_df = df[df['oxigeno'] < 5]\n",
    "\n",
    "# 6. Exportar resultados\n",
    "df.to_csv(\"resultado_oxigeno.csv\", index=False)\n",
    "\n",
    "# 7. Porcentaje de sitios con riesgo\n",
    "porcentaje_riesgo = (len(riesgo_df) / len(df)) * 100\n",
    "print(f\"Porcentaje de sitios con riesgo biológico: {porcentaje_riesgo:.2f}%\")\n"
   ]
  }
 ],
 "metadata": {
  "kernelspec": {
   "display_name": "Python 3",
   "language": "python",
   "name": "python3"
  },
  "language_info": {
   "codemirror_mode": {
    "name": "ipython",
    "version": 3
   },
   "file_extension": ".py",
   "mimetype": "text/x-python",
   "name": "python",
   "nbconvert_exporter": "python",
   "pygments_lexer": "ipython3",
   "version": "3.12.1"
  }
 },
 "nbformat": 4,
 "nbformat_minor": 5
}
