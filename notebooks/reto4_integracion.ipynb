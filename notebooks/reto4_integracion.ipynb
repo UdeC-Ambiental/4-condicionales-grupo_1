{
 "cells": [
  {
   "cell_type": "markdown",
   "metadata": {},
   "source": [
    "# 🧩 Reto 4 – Integración de resultados\n**Objetivo:** combinar resultados parciales en un diagnóstico integral por sitio."
   ]
  },
  {
   "cell_type": "markdown",
   "metadata": {},
   "source": [
    "### Pasos\n1. Carga `resultado_temperatura.csv`, `resultado_ph.csv`, `resultado_oxigeno.csv`.\n2. Únelos por `sitio` usando `merge`.\n3. Crea `diagnostico_final` con reglas (parcial/total/normal).\n4. Exporta `diagnostico_final.csv`.\n5. Cuenta categorías con `value_counts()`.\n\n> **Reto adicional:** gráfico de barras de distribución."
   ]
  },
  {
   "cell_type": "code",
   "metadata": {},
   "execution_count": null,
   "outputs": [],
   "source": [
    "# Escribe tu código aquí\n"
   ]
  }
 ],
 "metadata": {
  "kernelspec": {
   "display_name": "Python 3",
   "language": "python",
   "name": "python3"
  }
 },
 "nbformat": 4,
 "nbformat_minor": 5
}