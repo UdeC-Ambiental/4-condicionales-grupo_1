{
 "cells": [
  {
   "cell_type": "markdown",
   "metadata": {},
   "source": [
    "# 🧩 Ejemplo de clase: Condicionales en Python (sin bucles ni funciones)\nEn este notebook practicamos condicionales (`if`, `elif`, `else`) sobre **listas, tuplas, diccionarios** y **DataFrames**, y vemos comparaciones vectorizadas con `.loc[]` y `np.where()`."
   ]
  },
  {
   "cell_type": "markdown",
   "metadata": {},
   "source": [
    "## 1️⃣ Introducción teórica"
   ]
  },
  {
   "cell_type": "code",
   "metadata": {},
   "execution_count": null,
   "outputs": [],
   "source": [
    "temperatura = 28\nif temperatura > 30:\n    print('Día caluroso')\nelif temperatura >= 20:\n    print('Día templado')\nelse:\n    print('Día frío')"
   ]
  },
  {
   "cell_type": "markdown",
   "metadata": {},
   "source": [
    "## 2️⃣ Condicionales con listas"
   ]
  },
  {
   "cell_type": "code",
   "metadata": {},
   "execution_count": null,
   "outputs": [],
   "source": [
    "# Selección de un elemento y evaluación\nph_list = [6.1, 7.4, 8.9]\nph = ph_list[1]\nif ph < 6.5:\n    print('El agua es ácida')\nelif ph <= 8.5:\n    print('El agua es neutra')\nelse:\n    print('El agua es básica')"
   ]
  },
  {
   "cell_type": "markdown",
   "metadata": {},
   "source": [
    "## 3️⃣ Condicionales con tuplas"
   ]
  },
  {
   "cell_type": "code",
   "metadata": {},
   "execution_count": null,
   "outputs": [],
   "source": [
    "muestra = (29, 4.2)\ntemperatura = muestra[0]\noxigeno = muestra[1]\nif temperatura > 30 and oxigeno < 5:\n    print('Alta temperatura y bajo oxígeno → condiciones críticas')\nelif temperatura > 30:\n    print('Alta temperatura')\nelif oxigeno < 5:\n    print('Bajo oxígeno')\nelse:\n    print('Condiciones adecuadas')"
   ]
  },
  {
   "cell_type": "markdown",
   "metadata": {},
   "source": [
    "## 4️⃣ Condicionales con diccionarios"
   ]
  },
  {
   "cell_type": "code",
   "metadata": {},
   "execution_count": null,
   "outputs": [],
   "source": [
    "muestra = {'sitio':'Río Sur','pH':6.3,'oxigeno':5.8}\nif muestra['pH'] < 6.5:\n    print(f\"{muestra['sitio']}: Agua ácida\")\nelif muestra['pH'] <= 8.5:\n    print(f\"{muestra['sitio']}: Agua neutra\")\nelse:\n    print(f\"{muestra['sitio']}: Agua básica\")\n\nif muestra['oxigeno'] < 5:\n    print('Oxígeno bajo → riesgo para organismos acuáticos')\nelse:\n    print('Oxígeno dentro del rango adecuado')"
   ]
  },
  {
   "cell_type": "markdown",
   "metadata": {},
   "source": [
    "## 5️⃣ Condicionales con DataFrame (una sola muestra)"
   ]
  },
  {
   "cell_type": "code",
   "metadata": {},
   "execution_count": null,
   "outputs": [],
   "source": [
    "import pandas as pd\nmuestra = pd.DataFrame({'sitio':['Quebrada Verde'],'pH':[8.7],'oxigeno':[4.5]})\nvalor_ph = muestra.loc[0,'pH']\nif valor_ph < 6.5:\n    clasificacion = 'ácido'\nelif valor_ph <= 8.5:\n    clasificacion = 'neutro'\nelse:\n    clasificacion = 'básico'\nprint(f\"Sitio {muestra.loc[0,'sitio']}: agua {clasificacion}\")"
   ]
  },
  {
   "cell_type": "markdown",
   "metadata": {},
   "source": [
    "## 6️⃣ Condicionales vectorizados en DataFrames"
   ]
  },
  {
   "cell_type": "code",
   "metadata": {},
   "execution_count": null,
   "outputs": [],
   "source": [
    "import numpy as np\nimport pandas as pd\ndatos = pd.DataFrame({'sitio':['A','B','C'],'pH':[6.2,7.5,9.1]})\ndatos['clasificacion'] = np.where(datos['pH'] < 6.5, 'ácido', np.where(datos['pH'] <= 8.5, 'neutro', 'básico'))\ndatos"
   ]
  },
  {
   "cell_type": "markdown",
   "metadata": {},
   "source": [
    "## 7️⃣ Nota complementaria: `np.where()`"
   ]
  },
  {
   "cell_type": "code",
   "metadata": {},
   "execution_count": null,
   "outputs": [],
   "source": [
    "import numpy as np\ntemperaturas = np.array([18,25,32])\nnp.where(temperaturas > 30, 'Alta', 'Normal')"
   ]
  },
  {
   "cell_type": "markdown",
   "metadata": {},
   "source": [
    "## 8️⃣ Mini reto (no resuelto)"
   ]
  },
  {
   "cell_type": "code",
   "metadata": {},
   "execution_count": null,
   "outputs": [],
   "source": [
    "# Carga data/muestras_calidad_agua.csv y crea:\n# 1) clasificacion_pH: ácido / neutro / básico\n# 2) oxigeno_estado: bajo / medio / alto\n# Escribe tu código aquí\n"
   ]
  }
 ],
 "metadata": {
  "kernelspec": {
   "display_name": "Python 3",
   "language": "python",
   "name": "python3"
  }
 },
 "nbformat": 4,
 "nbformat_minor": 5
}