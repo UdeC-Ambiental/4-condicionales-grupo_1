{
 "cells": [
  {
   "cell_type": "markdown",
   "metadata": {},
   "source": [
    "# 🧩 Reto 1 – Temperatura\n",
    "**Objetivo:** clasificar la temperatura del agua y evaluar posible estrés térmico.\n",
    "\n",
    "**Datos:** `../data/muestras_calidad_agua.csv`"
   ]
  },
  {
   "cell_type": "markdown",
   "metadata": {},
   "source": [
    "### Pasos\n",
    "1. Carga el CSV en `df`.\n",
    "2. Extrae `sitio` y `temperatura` en `df_temp`.\n",
    "3. Crea `categoria_temp` con np.where o .loc.\n",
    "4. Crea `riesgo_termico`.\n",
    "5. Filtra a `df_caliente` (alta temperatura).\n",
    "6. Exporta `resultado_temperatura.csv`.\n",
    "\n",
    "> **Reto adicional:** porcentaje de sitios con riesgo térmico."
   ]
  },
  {
   "cell_type": "code",
   "execution_count": 1,
   "metadata": {},
   "outputs": [
    {
     "name": "stdout",
     "output_type": "stream",
     "text": [
      "Vista previa del archivo cargado\n"
     ]
    },
    {
     "data": {
      "text/html": [
       "<div>\n",
       "<style scoped>\n",
       "    .dataframe tbody tr th:only-of-type {\n",
       "        vertical-align: middle;\n",
       "    }\n",
       "\n",
       "    .dataframe tbody tr th {\n",
       "        vertical-align: top;\n",
       "    }\n",
       "\n",
       "    .dataframe thead th {\n",
       "        text-align: right;\n",
       "    }\n",
       "</style>\n",
       "<table border=\"1\" class=\"dataframe\">\n",
       "  <thead>\n",
       "    <tr style=\"text-align: right;\">\n",
       "      <th></th>\n",
       "      <th>sitio</th>\n",
       "      <th>pH</th>\n",
       "      <th>oxigeno</th>\n",
       "      <th>temperatura</th>\n",
       "    </tr>\n",
       "  </thead>\n",
       "  <tbody>\n",
       "    <tr>\n",
       "      <th>0</th>\n",
       "      <td>Río Subachoque</td>\n",
       "      <td>7.2</td>\n",
       "      <td>7.8</td>\n",
       "      <td>18.5</td>\n",
       "    </tr>\n",
       "    <tr>\n",
       "      <th>1</th>\n",
       "      <td>Quebrada Honda (Facatativá)</td>\n",
       "      <td>6.3</td>\n",
       "      <td>6.2</td>\n",
       "      <td>19.4</td>\n",
       "    </tr>\n",
       "    <tr>\n",
       "      <th>2</th>\n",
       "      <td>Río Botello (Madrid)</td>\n",
       "      <td>6.8</td>\n",
       "      <td>5.9</td>\n",
       "      <td>22.7</td>\n",
       "    </tr>\n",
       "    <tr>\n",
       "      <th>3</th>\n",
       "      <td>Afluente San José (El Rosal)</td>\n",
       "      <td>7.9</td>\n",
       "      <td>8.3</td>\n",
       "      <td>20.1</td>\n",
       "    </tr>\n",
       "    <tr>\n",
       "      <th>4</th>\n",
       "      <td>Río Villeta</td>\n",
       "      <td>8.7</td>\n",
       "      <td>6.1</td>\n",
       "      <td>28.3</td>\n",
       "    </tr>\n",
       "  </tbody>\n",
       "</table>\n",
       "</div>"
      ],
      "text/plain": [
       "                          sitio   pH  oxigeno  temperatura\n",
       "0                Río Subachoque  7.2      7.8         18.5\n",
       "1   Quebrada Honda (Facatativá)  6.3      6.2         19.4\n",
       "2          Río Botello (Madrid)  6.8      5.9         22.7\n",
       "3  Afluente San José (El Rosal)  7.9      8.3         20.1\n",
       "4                   Río Villeta  8.7      6.1         28.3"
      ]
     },
     "metadata": {},
     "output_type": "display_data"
    }
   ],
   "source": [
    "# Escribe tu código aquí\n",
    "import pandas as pd\n",
    "#paso 1: cargar el archivo base de calidad de agua \n",
    "df = pd.read_csv(\"../data/muestras_calidad_agua.csv\")\n",
    "print(\"Vista previa del archivo cargado\")\n",
    "display(df.head())"
   ]
  },
  {
   "cell_type": "code",
   "execution_count": 2,
   "id": "c48fcded",
   "metadata": {},
   "outputs": [
    {
     "name": "stdout",
     "output_type": "stream",
     "text": [
      "Datos seleccionados de temperatura\n"
     ]
    },
    {
     "data": {
      "text/html": [
       "<div>\n",
       "<style scoped>\n",
       "    .dataframe tbody tr th:only-of-type {\n",
       "        vertical-align: middle;\n",
       "    }\n",
       "\n",
       "    .dataframe tbody tr th {\n",
       "        vertical-align: top;\n",
       "    }\n",
       "\n",
       "    .dataframe thead th {\n",
       "        text-align: right;\n",
       "    }\n",
       "</style>\n",
       "<table border=\"1\" class=\"dataframe\">\n",
       "  <thead>\n",
       "    <tr style=\"text-align: right;\">\n",
       "      <th></th>\n",
       "      <th>sitio</th>\n",
       "      <th>temperatura</th>\n",
       "    </tr>\n",
       "  </thead>\n",
       "  <tbody>\n",
       "    <tr>\n",
       "      <th>0</th>\n",
       "      <td>Río Subachoque</td>\n",
       "      <td>18.5</td>\n",
       "    </tr>\n",
       "    <tr>\n",
       "      <th>1</th>\n",
       "      <td>Quebrada Honda (Facatativá)</td>\n",
       "      <td>19.4</td>\n",
       "    </tr>\n",
       "    <tr>\n",
       "      <th>2</th>\n",
       "      <td>Río Botello (Madrid)</td>\n",
       "      <td>22.7</td>\n",
       "    </tr>\n",
       "    <tr>\n",
       "      <th>3</th>\n",
       "      <td>Afluente San José (El Rosal)</td>\n",
       "      <td>20.1</td>\n",
       "    </tr>\n",
       "    <tr>\n",
       "      <th>4</th>\n",
       "      <td>Río Villeta</td>\n",
       "      <td>28.3</td>\n",
       "    </tr>\n",
       "    <tr>\n",
       "      <th>5</th>\n",
       "      <td>Quebrada Cune (San Francisco)</td>\n",
       "      <td>25.2</td>\n",
       "    </tr>\n",
       "    <tr>\n",
       "      <th>6</th>\n",
       "      <td>Río Tobia (Nocaima)</td>\n",
       "      <td>26.9</td>\n",
       "    </tr>\n",
       "    <tr>\n",
       "      <th>7</th>\n",
       "      <td>Quebrada Negra (La Vega)</td>\n",
       "      <td>24.4</td>\n",
       "    </tr>\n",
       "    <tr>\n",
       "      <th>8</th>\n",
       "      <td>Río Bahamón (Sasaima)</td>\n",
       "      <td>27.6</td>\n",
       "    </tr>\n",
       "    <tr>\n",
       "      <th>9</th>\n",
       "      <td>Río Guayuriba (La Mesa)</td>\n",
       "      <td>30.5</td>\n",
       "    </tr>\n",
       "  </tbody>\n",
       "</table>\n",
       "</div>"
      ],
      "text/plain": [
       "                           sitio  temperatura\n",
       "0                 Río Subachoque         18.5\n",
       "1    Quebrada Honda (Facatativá)         19.4\n",
       "2           Río Botello (Madrid)         22.7\n",
       "3   Afluente San José (El Rosal)         20.1\n",
       "4                    Río Villeta         28.3\n",
       "5  Quebrada Cune (San Francisco)         25.2\n",
       "6            Río Tobia (Nocaima)         26.9\n",
       "7       Quebrada Negra (La Vega)         24.4\n",
       "8          Río Bahamón (Sasaima)         27.6\n",
       "9        Río Guayuriba (La Mesa)         30.5"
      ]
     },
     "metadata": {},
     "output_type": "display_data"
    }
   ],
   "source": [
    "#paso2: extraer solo las columnas necesarias \n",
    "df_temp = df[[\"sitio\", \"temperatura\"]].copy()\n",
    "print (\"Datos seleccionados de temperatura\") \n",
    "display(df_temp)"
   ]
  },
  {
   "cell_type": "code",
   "execution_count": 3,
   "id": "47bd215a",
   "metadata": {},
   "outputs": [
    {
     "name": "stdout",
     "output_type": "stream",
     "text": [
      "clasificacion termica por sitio\n"
     ]
    },
    {
     "data": {
      "text/html": [
       "<div>\n",
       "<style scoped>\n",
       "    .dataframe tbody tr th:only-of-type {\n",
       "        vertical-align: middle;\n",
       "    }\n",
       "\n",
       "    .dataframe tbody tr th {\n",
       "        vertical-align: top;\n",
       "    }\n",
       "\n",
       "    .dataframe thead th {\n",
       "        text-align: right;\n",
       "    }\n",
       "</style>\n",
       "<table border=\"1\" class=\"dataframe\">\n",
       "  <thead>\n",
       "    <tr style=\"text-align: right;\">\n",
       "      <th></th>\n",
       "      <th>sitio</th>\n",
       "      <th>temperatura</th>\n",
       "      <th>categoria_temp</th>\n",
       "    </tr>\n",
       "  </thead>\n",
       "  <tbody>\n",
       "    <tr>\n",
       "      <th>0</th>\n",
       "      <td>Río Subachoque</td>\n",
       "      <td>18.5</td>\n",
       "      <td>baja</td>\n",
       "    </tr>\n",
       "    <tr>\n",
       "      <th>1</th>\n",
       "      <td>Quebrada Honda (Facatativá)</td>\n",
       "      <td>19.4</td>\n",
       "      <td>baja</td>\n",
       "    </tr>\n",
       "    <tr>\n",
       "      <th>2</th>\n",
       "      <td>Río Botello (Madrid)</td>\n",
       "      <td>22.7</td>\n",
       "      <td>media</td>\n",
       "    </tr>\n",
       "    <tr>\n",
       "      <th>3</th>\n",
       "      <td>Afluente San José (El Rosal)</td>\n",
       "      <td>20.1</td>\n",
       "      <td>baja</td>\n",
       "    </tr>\n",
       "    <tr>\n",
       "      <th>4</th>\n",
       "      <td>Río Villeta</td>\n",
       "      <td>28.3</td>\n",
       "      <td>alta</td>\n",
       "    </tr>\n",
       "    <tr>\n",
       "      <th>5</th>\n",
       "      <td>Quebrada Cune (San Francisco)</td>\n",
       "      <td>25.2</td>\n",
       "      <td>media</td>\n",
       "    </tr>\n",
       "    <tr>\n",
       "      <th>6</th>\n",
       "      <td>Río Tobia (Nocaima)</td>\n",
       "      <td>26.9</td>\n",
       "      <td>alta</td>\n",
       "    </tr>\n",
       "    <tr>\n",
       "      <th>7</th>\n",
       "      <td>Quebrada Negra (La Vega)</td>\n",
       "      <td>24.4</td>\n",
       "      <td>media</td>\n",
       "    </tr>\n",
       "    <tr>\n",
       "      <th>8</th>\n",
       "      <td>Río Bahamón (Sasaima)</td>\n",
       "      <td>27.6</td>\n",
       "      <td>alta</td>\n",
       "    </tr>\n",
       "    <tr>\n",
       "      <th>9</th>\n",
       "      <td>Río Guayuriba (La Mesa)</td>\n",
       "      <td>30.5</td>\n",
       "      <td>alta</td>\n",
       "    </tr>\n",
       "  </tbody>\n",
       "</table>\n",
       "</div>"
      ],
      "text/plain": [
       "                           sitio  temperatura categoria_temp\n",
       "0                 Río Subachoque         18.5           baja\n",
       "1    Quebrada Honda (Facatativá)         19.4           baja\n",
       "2           Río Botello (Madrid)         22.7          media\n",
       "3   Afluente San José (El Rosal)         20.1           baja\n",
       "4                    Río Villeta         28.3           alta\n",
       "5  Quebrada Cune (San Francisco)         25.2          media\n",
       "6            Río Tobia (Nocaima)         26.9           alta\n",
       "7       Quebrada Negra (La Vega)         24.4          media\n",
       "8          Río Bahamón (Sasaima)         27.6           alta\n",
       "9        Río Guayuriba (La Mesa)         30.5           alta"
      ]
     },
     "metadata": {},
     "output_type": "display_data"
    }
   ],
   "source": [
    "#paso 3: clasificar cada sitio segun su tempperatura \n",
    "def clasificar_temp(temp):\n",
    "    if temp < 22:\n",
    "        return (\"baja\")\n",
    "    elif 22 <= temp <= 26:\n",
    "        return (\"media\")\n",
    "    else:\n",
    "        return (\"alta\")\n",
    "df_temp[\"categoria_temp\"]= df_temp[\"temperatura\"].apply(clasificar_temp)\n",
    "print(\"clasificacion termica por sitio\")\n",
    "display(df_temp)"
   ]
  },
  {
   "cell_type": "code",
   "execution_count": 4,
   "id": "37b9124d",
   "metadata": {},
   "outputs": [
    {
     "name": "stdout",
     "output_type": "stream",
     "text": [
      "Columna de riesgo térmico agregada correctamente:\n",
      "                           sitio  temperatura categoria_temp riesgo_termico\n",
      "0                 Río Subachoque         18.5           baja             No\n",
      "1    Quebrada Honda (Facatativá)         19.4           baja             No\n",
      "2           Río Botello (Madrid)         22.7          media             No\n",
      "3   Afluente San José (El Rosal)         20.1           baja             No\n",
      "4                    Río Villeta         28.3           alta             Sí\n",
      "5  Quebrada Cune (San Francisco)         25.2          media             No\n",
      "6            Río Tobia (Nocaima)         26.9           alta             Sí\n",
      "7       Quebrada Negra (La Vega)         24.4          media             No\n",
      "8          Río Bahamón (Sasaima)         27.6           alta             Sí\n",
      "9        Río Guayuriba (La Mesa)         30.5           alta             Sí\n"
     ]
    }
   ],
   "source": [
    "#paso 4: evaluar riesgo termico segun la temperatura\n",
    "def riesgo_termico(categoria):\n",
    "    if categoria == \"alta\":\n",
    "        return \"Sí\"\n",
    "    else:\n",
    "        return \"No\"\n",
    "\n",
    "df_temp[\"riesgo_termico\"] = df_temp[\"categoria_temp\"].apply(riesgo_termico)\n",
    "\n",
    "print(\"Columna de riesgo térmico agregada correctamente:\")\n",
    "print(df_temp)\n"
   ]
  },
  {
   "cell_type": "code",
   "execution_count": 5,
   "id": "456395a3",
   "metadata": {},
   "outputs": [
    {
     "name": "stdout",
     "output_type": "stream",
     "text": [
      "Sitios con alta temperatura (riesgo térmico):\n",
      "                     sitio  temperatura categoria_temp riesgo_termico\n",
      "4              Río Villeta         28.3           alta             Sí\n",
      "6      Río Tobia (Nocaima)         26.9           alta             Sí\n",
      "8    Río Bahamón (Sasaima)         27.6           alta             Sí\n",
      "9  Río Guayuriba (La Mesa)         30.5           alta             Sí\n"
     ]
    }
   ],
   "source": [
    "df_caliente = df_temp[df_temp[\"categoria_temp\"] == \"alta\"]\n",
    "print(\"Sitios con alta temperatura (riesgo térmico):\")\n",
    "print(df_caliente)"
   ]
  },
  {
   "cell_type": "code",
   "execution_count": 6,
   "id": "45e6b4b2",
   "metadata": {},
   "outputs": [
    {
     "name": "stdout",
     "output_type": "stream",
     "text": [
      "Archivos exportados:\n",
      "- resultado_temperatura.csv\n",
      "- resultado_caliente.csv\n"
     ]
    }
   ],
   "source": [
    "df_temp.to_csv(\"resultado_temperatura.csv\")\n",
    "df_caliente.to_csv(\"resultado_caliente.csv\")\n",
    "\n",
    "print(\"Archivos exportados:\")\n",
    "print(\"- resultado_temperatura.csv\")\n",
    "print(\"- resultado_caliente.csv\")"
   ]
  },
  {
   "cell_type": "code",
   "execution_count": 7,
   "id": "2c0ffad4",
   "metadata": {},
   "outputs": [
    {
     "name": "stdout",
     "output_type": "stream",
     "text": [
      "Resumen del riesgo térmico:\n",
      "Total de sitios evaluados: 10\n",
      "Sitios con riesgo térmico: 4\n",
      "Porcentaje de riesgo térmico: 40.0 %\n"
     ]
    }
   ],
   "source": [
    "total = len (df_temp)\n",
    "riesgo_si = len (df_temp[df_temp[\"riesgo_termico\"] == \"Sí\"])\n",
    "porcentaje_riesgo = (riesgo_si / total) * 100\n",
    "\n",
    "print(\"Resumen del riesgo térmico:\")\n",
    "print(\"Total de sitios evaluados:\", total)\n",
    "print(\"Sitios con riesgo térmico:\", riesgo_si)\n",
    "print(\"Porcentaje de riesgo térmico:\",(porcentaje_riesgo), \"%\")"
   ]
  }
 ],
 "metadata": {
  "kernelspec": {
   "display_name": "Python 3",
   "language": "python",
   "name": "python3"
  },
  "language_info": {
   "codemirror_mode": {
    "name": "ipython",
    "version": 3
   },
   "file_extension": ".py",
   "mimetype": "text/x-python",
   "name": "python",
   "nbconvert_exporter": "python",
   "pygments_lexer": "ipython3",
   "version": "3.12.1"
  }
 },
 "nbformat": 4,
 "nbformat_minor": 5
}
