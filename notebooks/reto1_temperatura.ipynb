{
 "cells": [
  {
   "cell_type": "markdown",
   "metadata": {},
   "source": [
    "# 🧩 Reto 1 – Temperatura\n**Objetivo:** clasificar la temperatura del agua y evaluar posible estrés térmico.\n\n**Datos:** `../data/muestras_calidad_agua.csv`"
   ]
  },
  {
   "cell_type": "markdown",
   "metadata": {},
   "source": [
    "### Pasos\n1. Carga el CSV en `df`.\n2. Extrae `sitio` y `temperatura` en `df_temp`.\n3. Crea `categoria_temp` con np.where o .loc.\n4. Crea `riesgo_termico`.\n5. Filtra a `df_caliente` (alta temperatura).\n6. Exporta `resultado_temperatura.csv`.\n\n> **Reto adicional:** porcentaje de sitios con riesgo térmico."
   ]
  },
  {
   "cell_type": "code",
   "metadata": {},
   "execution_count": null,
   "outputs": [],
   "source": [
    "# Escribe tu código aquí\n"
   ]
  }
 ],
 "metadata": {
  "kernelspec": {
   "display_name": "Python 3",
   "language": "python",
   "name": "python3"
  }
 },
 "nbformat": 4,
 "nbformat_minor": 5
}