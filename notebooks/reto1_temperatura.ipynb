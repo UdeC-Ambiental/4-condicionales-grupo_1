{
 "cells": [
  {
   "cell_type": "markdown",
   "metadata": {},
   "source": [
    "# 🧩 Reto 1 – Temperatura\n",
    "**Objetivo:** clasificar la temperatura del agua y evaluar posible estrés térmico.\n",
    "\n",
    "**Datos:** `../data/muestras_calidad_agua.csv`"
   ]
  },
  {
   "cell_type": "markdown",
   "metadata": {},
   "source": [
    "### Pasos\n",
    "1. Carga el CSV en `df`.\n",
    "2. Extrae `sitio` y `temperatura` en `df_temp`.\n",
    "3. Crea `categoria_temp` con np.where o .loc.\n",
    "4. Crea `riesgo_termico`.\n",
    "5. Filtra a `df_caliente` (alta temperatura).\n",
    "6. Exporta `resultado_temperatura.csv`.\n",
    "\n",
    "> **Reto adicional:** porcentaje de sitios con riesgo térmico."
   ]
  },
  {
   "cell_type": "code",
   "execution_count": null,
   "metadata": {},
   "outputs": [],
   "source": [
    "# Escribe tu código aquí\n",
    "print(\"Temperatura\")"
   ]
  }
 ],
 "metadata": {
  "kernelspec": {
   "display_name": "Python 3",
   "language": "python",
   "name": "python3"
  }
 },
 "nbformat": 4,
 "nbformat_minor": 5
}
