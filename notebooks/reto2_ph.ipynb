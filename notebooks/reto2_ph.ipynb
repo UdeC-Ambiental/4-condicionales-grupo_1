{
 "cells": [
  {
   "cell_type": "markdown",
   "metadata": {},
   "source": [
    "# 🧩 Reto 2 – pH\n**Objetivo:** clasificar pH y generar alerta química.\n\n**Datos:** `../data/muestras_calidad_agua.csv`"
   ]
  },
  {
   "cell_type": "markdown",
   "metadata": {},
   "source": [
    "### Pasos\n1. Carga el CSV en `df`.\n2. Extrae `sitio` y `pH`.\n3. Crea `clasificacion_pH` con tres rangos.\n4. Crea `alerta_quimica` (revisión si pH < 6.5 o pH > 8.5).\n5. Filtra `df_alerta` y exporta `resultado_ph.csv`.\n\n> **Reto adicional:** promedio y desviación estándar."
   ]
  },
  {
   "cell_type": "code",
   "metadata": {},
   "execution_count": null,
   "outputs": [],
   "source": [
    "# Escribe tu código aquí\n"
   ]
  }
 ],
 "metadata": {
  "kernelspec": {
   "display_name": "Python 3",
   "language": "python",
   "name": "python3"
  }
 },
 "nbformat": 4,
 "nbformat_minor": 5
}