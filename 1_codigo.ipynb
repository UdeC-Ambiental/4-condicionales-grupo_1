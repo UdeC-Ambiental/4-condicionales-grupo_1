{
 "cells": [
  {
   "cell_type": "code",
   "execution_count": 11,
   "id": "3ceb365d-b829-461f-bace-600bf04df218",
   "metadata": {},
   "outputs": [
    {
     "name": "stdout",
     "output_type": "stream",
     "text": [
      "18000\n"
     ]
    }
   ],
   "source": [
    "import math\n",
    "\n",
    "#El problema ambiental será la contaminación por metales pesados por una mineria\n",
    "contaminantes = \"Mercurio\"\n",
    "\n",
    "#Se analizara la cantidad de desechos liquido que contienen mercurio, que desecha una empresa en la cuenca alta de el rio Bogotá\n",
    "empresa_contaminante = \"cuenca alta del rio Bogotá\"\n",
    "tiempo_vertimiento = 12 # por hora\n",
    "cantidad_desechado = 1500 #litros\n",
    "distancia = \"Recorrido del contaminante\"\n",
    "velocidad = \"Distancia de recorrido de el Hg\"\n",
    "hg_limite = 338 # mg/L\n",
    "hg_concentracion = 420 # mg/l\n",
    "\n",
    "# se calculara el volumen de agua desechada con la siguiente ecuacion\n",
    "agua_desechada = tiempo_vertimiento * cantidad_desechado\n",
    "\n",
    "print(agua_desechada)\n",
    "\n"
   ]
  }
 ],
 "metadata": {
  "kernelspec": {
   "display_name": "Python 3 (ipykernel)",
   "language": "python",
   "name": "python3"
  },
  "language_info": {
   "codemirror_mode": {
    "name": "ipython",
    "version": 3
   },
   "file_extension": ".py",
   "mimetype": "text/x-python",
   "name": "python",
   "nbconvert_exporter": "python",
   "pygments_lexer": "ipython3",
   "version": "3.13.5"
  }
 },
 "nbformat": 4,
 "nbformat_minor": 5
}
